{
 "cells": [
  {
   "cell_type": "code",
   "execution_count": 3,
   "id": "855fda93",
   "metadata": {},
   "outputs": [],
   "source": [
    "class SimpleTokenizer:\n",
    "    '''\n",
    "    Class to get the resources from the resource file\n",
    "    Variables\n",
    "    text -> which will contain the string from which we wnat to extract data\n",
    "    separator -> these are the separator which are use in resource file to separate the data\n",
    "    '''\n",
    "    start = -1\n",
    "    end = -1\n",
    "\n",
    "    def __init__(self, text, separators=[' ', '\\t', '\\n']):\n",
    "        self.text = text.replace('\\r\\n', '')\n",
    "        self.separators = separators\n",
    "        self.start = -1\n",
    "        self.end = -1\n",
    "\n",
    "    def hasToken(self):\n",
    "        self.start = self.end + 1\n",
    "        while (self.start < len(self.text) and self.isSeparator(self.text[self.start])):\n",
    "            self.start += 1\n",
    "        if (self.start < len(self.text)):\n",
    "            self.end = self.start - 1\n",
    "            return True\n",
    "        return False\n",
    "\n",
    "    def nextInt(self):\n",
    "        while (self.start < len(self.text)):\n",
    "            try:\n",
    "                token = self.nextToken().strip()\n",
    "                return int(token)\n",
    "            except:\n",
    "                pass\n",
    "        raise Exception(\"NoSuchElement\")\n",
    "\n",
    "    def nextToken(self):\n",
    "        self.skipToken()\n",
    "        return self.text[self.start:self.end]\n",
    "\n",
    "    def skipToken(self):\n",
    "        self.start = self.end + 1\n",
    "        while (self.start < len(self.text) and self.isSeparator(self.text[self.start])):\n",
    "            self.start += 1\n",
    "        self.end = self.start + 1\n",
    "        while (self.end < len(self.text) and not self.isSeparator(self.text[self.end])):\n",
    "            self.end += 1\n",
    "\n",
    "    def isSeparator(self, character):\n",
    "        if character in self.separators:\n",
    "            return True\n",
    "        return False\n"
   ]
  },
  {
   "cell_type": "code",
   "execution_count": 4,
   "id": "4bae16ec",
   "metadata": {},
   "outputs": [],
   "source": [
    "class Problem:\n",
    "    '''\n",
    "    Array Representation of the problem\n",
    "    Variables:\n",
    "    nJobs -> Number of Jobs\n",
    "    nMachines -> Number of Machines\n",
    "    processTimes -> Matrix with the process time of a job in a machine , processTimes[machine][job]\n",
    "    setupTimes -> Matrix with the setup times of the next job considering the current job on same machine\n",
    "    '''\n",
    "\n",
    "    def __init__(self, instancePath):\n",
    "        try:\n",
    "            print(os.getcwd()+'/'+instancePath)\n",
    "            with open(os.getcwd()+'/'+instancePath, 'r', newline='') as file:\n",
    "                self.token = SimpleTokenizer(file.readline())\n",
    "                self.nJobs = self.token.nextInt()\n",
    "                self.nMachines = self.token.nextInt()\n",
    "                # print('Jobs>>'+str(self.nJobs))\n",
    "                \n",
    "                self.processTimes = [[False for i in range(self.nJobs)] for j in range(self.nMachines)]\n",
    "                \n",
    "                self.setupTimes = [[[False for i in range(self.nJobs)] for j in range(self.nJobs)]for k in range(self.nMachines)]\n",
    "                file.readline()\n",
    "                for job in range(0, self.nJobs):\n",
    "                    self.token = SimpleTokenizer(file.readline())\n",
    "                    for machine in range(0, self.nMachines):\n",
    "                        machineid = self.token.nextInt()\n",
    "                        assert machine == machineid, \"machine doesnot match ID in file\"\n",
    "                        self.processTimes[machine][job] = self.token.nextInt()\n",
    "                file.readline()\n",
    "                for machine in range(0, self.nMachines):\n",
    "                    file.readline()\n",
    "                    for job in range(0, self.nJobs):\n",
    "                        self.token = SimpleTokenizer(file.readline())\n",
    "                        for nextJob in range(0, self.nJobs):\n",
    "                            self.setupTimes[machine][job][nextJob] = self.token.nextInt(\n",
    "                            )\n",
    "                            assert job != nextJob or self.setupTimes[machine][job][\n",
    "                                nextJob] == 0, \"setup between equal jobs must be zero\"\n",
    "        except Exception as e:\n",
    "            print(e)\n",
    "\n",
    "    def __str__(self):\n",
    "        print('Array representation of Resource file')\n",
    "        print('Number of Jobs => ', self.nJobs)\n",
    "        print('Number of Machines => ', self.nMachines)\n",
    "        print('Process Time of Jobs => ', self.processTimes)\n",
    "        print('Setup Time of Jobs=>',self.setupTimes)\n",
    "        return \"\"\n"
   ]
  },
  {
   "cell_type": "code",
   "execution_count": null,
   "id": "fd2511fa",
   "metadata": {},
   "outputs": [],
   "source": []
  },
  {
   "cell_type": "code",
   "execution_count": 5,
   "id": "fce48827",
   "metadata": {},
   "outputs": [],
   "source": [
    "import os\n",
    "from abc import ABC, abstractmethod\n",
    "import numpy as np\n",
    "import random\n",
    "import time\n",
    "import sys\n",
    "import math"
   ]
  },
  {
   "cell_type": "code",
   "execution_count": 18,
   "id": "19ca6a16",
   "metadata": {},
   "outputs": [],
   "source": [
    "from random import choices,randrange,randint\n",
    "from functools import partial\n",
    "# Genome\n",
    "def generate_genome(length):\n",
    "    return choices([0,1],k=length)"
   ]
  },
  {
   "cell_type": "code",
   "execution_count": 19,
   "id": "617f8808",
   "metadata": {},
   "outputs": [],
   "source": [
    "# function to generate new solution\n",
    "def generate_population(size,genome_length):\n",
    "    return [generate_genome(genome_length) for _ in range(size)]"
   ]
  },
  {
   "cell_type": "code",
   "execution_count": 20,
   "id": "0b7663d2",
   "metadata": {},
   "outputs": [],
   "source": [
    "#fitness fucntion\n",
    "#thing is namedtuple of \n",
    "def fitness(genome,things,limit):\n",
    "    if len(genome) != len(things):\n",
    "        raise ValueError(\"Genome and things must be of same length\")\n",
    "    weight = 0\n",
    "    value = 0\n",
    "    for i, thing in enumerate(things):\n",
    "        if genome[i] == 1:\n",
    "            weight += thing.weight\n",
    "            value += thing.value\n",
    "            if limit != None:\n",
    "                if weight > limit:\n",
    "                    return 0\n",
    "    return value\n"
   ]
  },
  {
   "cell_type": "code",
   "execution_count": 21,
   "id": "921056a0",
   "metadata": {},
   "outputs": [],
   "source": [
    "# select function\n",
    "def selection_pair(population,fitness_func):\n",
    "    return choices(\n",
    "        population = population,\n",
    "        weights=[fitness_func(genome) for genome  in population],\n",
    "        k = 2\n",
    "        \n",
    "    )\n"
   ]
  },
  {
   "cell_type": "code",
   "execution_count": 22,
   "id": "ad540894",
   "metadata": {},
   "outputs": [],
   "source": [
    "# crossover function\n",
    "def single_point_crossover(a,b):\n",
    "    if len(a) != len(b):\n",
    "        raise ValueError(\"Genomes a and b must be of same length\")\n",
    "    length = len(a)\n",
    "    if length < 2:\n",
    "        return a,b\n",
    "    p = randint(q,length-1)\n",
    "    return a[0:p]+b[p:], b[0:p]+a[p:]"
   ]
  },
  {
   "cell_type": "code",
   "execution_count": 23,
   "id": "ad8298bb",
   "metadata": {},
   "outputs": [],
   "source": [
    "# mutation function\n",
    "def mutation(genome,num=1,probability=0.5):\n",
    "    for _ in range(num):\n",
    "        index = randrange(len(genome))\n",
    "        genome[index] = genome[index] if random() > probability else abs(genome[index]-1)\n",
    "    return genome"
   ]
  },
  {
   "cell_type": "code",
   "execution_count": 24,
   "id": "3208c5f5",
   "metadata": {},
   "outputs": [],
   "source": [
    "def run_evolution(popluate_func,fitness_func,fitness_limit,selection_func=selection_pair,crossover_func=single_point_crossover,mutation_func=mutation,generation_limit=100):\n",
    "    population = popluate_func()\n",
    "    for i in range(generation_limit):\n",
    "        population = sorted(\n",
    "        population,\n",
    "            key=lambda genome:fitness_func(genome),\n",
    "            reverse=True\n",
    "        )\n",
    "        if fitness_limit != None:\n",
    "            if fitness_func(population[0])>=fitness_limit:\n",
    "                break\n",
    "        next_generation = population[0:2]\n",
    "        for j in range(int(len(population)/2)-1):\n",
    "            parents = selection_func(population,fitness_func)\n",
    "            offspring_a, offspring_b = crossover_func(parents[0],parents[1])\n",
    "            offspring_a = mutation_func(offspring_a)\n",
    "            offspring_b = mutation_func(offspring_b)\n",
    "            next_generation += [offspring_a,offspring_b]\n",
    "        population = next_generation\n",
    "    population = sorted(\n",
    "        population,\n",
    "            key=lambda genome:fitness_func(genome),\n",
    "            reverse=True\n",
    "        )\n",
    "    return population,i\n",
    "    "
   ]
  },
  {
   "cell_type": "code",
   "execution_count": null,
   "id": "7c152bbe",
   "metadata": {},
   "outputs": [],
   "source": [
    "things = "
   ]
  },
  {
   "cell_type": "code",
   "execution_count": 25,
   "id": "d01a5ab0",
   "metadata": {},
   "outputs": [
    {
     "ename": "NameError",
     "evalue": "name 'things' is not defined",
     "output_type": "error",
     "traceback": [
      "\u001b[1;31m---------------------------------------------------------------------------\u001b[0m",
      "\u001b[1;31mNameError\u001b[0m                                 Traceback (most recent call last)",
      "\u001b[1;32m~\\AppData\\Local\\Temp\\ipykernel_18580\\1775918992.py\u001b[0m in \u001b[0;36m<module>\u001b[1;34m\u001b[0m\n\u001b[0;32m      1\u001b[0m population,generations = run_evolution(\n\u001b[1;32m----> 2\u001b[1;33m     \u001b[0mpopluate_func\u001b[0m\u001b[1;33m=\u001b[0m\u001b[0mpartial\u001b[0m\u001b[1;33m(\u001b[0m\u001b[0mgenerate_population\u001b[0m\u001b[1;33m,\u001b[0m\u001b[0msize\u001b[0m\u001b[1;33m=\u001b[0m\u001b[1;36m10\u001b[0m\u001b[1;33m,\u001b[0m\u001b[0mgenome_length\u001b[0m\u001b[1;33m=\u001b[0m\u001b[0mlen\u001b[0m\u001b[1;33m(\u001b[0m\u001b[0mthings\u001b[0m\u001b[1;33m)\u001b[0m\u001b[1;33m)\u001b[0m\u001b[1;33m,\u001b[0m\u001b[1;33m\u001b[0m\u001b[1;33m\u001b[0m\u001b[0m\n\u001b[0m\u001b[0;32m      3\u001b[0m     \u001b[0mfitness_func\u001b[0m\u001b[1;33m=\u001b[0m\u001b[0mpartial\u001b[0m\u001b[1;33m(\u001b[0m\u001b[0mfitness\u001b[0m\u001b[1;33m,\u001b[0m\u001b[0mthings\u001b[0m\u001b[1;33m=\u001b[0m\u001b[0mthings\u001b[0m\u001b[1;33m,\u001b[0m\u001b[0mlimit\u001b[0m\u001b[1;33m=\u001b[0m\u001b[1;36m300\u001b[0m\u001b[1;33m)\u001b[0m\u001b[1;33m,\u001b[0m\u001b[1;33m\u001b[0m\u001b[1;33m\u001b[0m\u001b[0m\n\u001b[0;32m      4\u001b[0m     \u001b[0mfitness_limit\u001b[0m\u001b[1;33m=\u001b[0m\u001b[1;36m740\u001b[0m\u001b[1;33m,\u001b[0m\u001b[1;33m\u001b[0m\u001b[1;33m\u001b[0m\u001b[0m\n\u001b[0;32m      5\u001b[0m     \u001b[0mgeneration_limit\u001b[0m\u001b[1;33m=\u001b[0m\u001b[1;36m100\u001b[0m\u001b[1;33m\u001b[0m\u001b[1;33m\u001b[0m\u001b[0m\n",
      "\u001b[1;31mNameError\u001b[0m: name 'things' is not defined"
     ]
    }
   ],
   "source": [
    "population,generations = run_evolution(\n",
    "    popluate_func=partial(generate_population,size=10,genome_length=len(things)),\n",
    "    fitness_func=partial(fitness,things=things,limit=300),\n",
    "    fitness_limit=740,\n",
    "    generation_limit=100\n",
    "    \n",
    ")\n"
   ]
  },
  {
   "cell_type": "code",
   "execution_count": 53,
   "id": "e858005e",
   "metadata": {},
   "outputs": [
    {
     "name": "stdout",
     "output_type": "stream",
     "text": [
      "E:\\COdes\\Jupyter notebook\\Course\\Genetic Algorithm/resource.txt\n"
     ]
    }
   ],
   "source": [
    "inFile = \"resource.txt\"\n",
    "problem = Problem(inFile)"
   ]
  },
  {
   "cell_type": "code",
   "execution_count": 7,
   "id": "cccbfcf3",
   "metadata": {},
   "outputs": [
    {
     "name": "stdout",
     "output_type": "stream",
     "text": [
      "Array representation of Resource file\n",
      "Number of Jobs =>  6\n",
      "Number of Machines =>  2\n",
      "Process Time of Jobs =>  [[1, 87, 28, 32, 38, 9], [4, 21, 68, 17, 43, 48]]\n",
      "Setup Time of Jobs=> [[[0, 1, 8, 1, 3, 9], [4, 0, 7, 3, 7, 8], [7, 3, 0, 2, 3, 5], [3, 8, 3, 0, 5, 2], [8, 3, 7, 9, 0, 5], [8, 8, 1, 2, 2, 0]], [[0, 5, 1, 6, 1, 7], [6, 0, 7, 7, 6, 2], [7, 6, 0, 9, 6, 9], [3, 7, 3, 0, 1, 7], [5, 8, 5, 6, 0, 9], [7, 4, 1, 7, 9, 0]]]\n",
      "\n"
     ]
    }
   ],
   "source": [
    "print(problem)"
   ]
  },
  {
   "cell_type": "code",
   "execution_count": null,
   "id": "9a8fb9dc",
   "metadata": {},
   "outputs": [],
   "source": [
    "individual = []\n",
    "for i in problem.nJobs:\n",
    "    for j in range(0,len(problem.nMachines)):\n"
   ]
  },
  {
   "cell_type": "code",
   "execution_count": null,
   "id": "c251a811",
   "metadata": {},
   "outputs": [],
   "source": [
    "%%time\n",
    "import random\n",
    "\n",
    "# function to calculate the fitness of a schedule\n",
    "def calculate_fitness(schedule, processing_times, setup_times):\n",
    "    # initialize the completion times of each job on each machine\n",
    "#     completion_times = [[0] * len(processing_times[0]) for _ in range(len(processing_times))]\n",
    "    completion_times = [[0] * problem.nMachines for _ in range(len(schedule))]\n",
    "    machine_done = []\n",
    "    machines = [[0] for _ in range(problem.nMachines)]\n",
    "    for k in schedule:\n",
    "        machines[k[0]] += [k[1]]\n",
    "    for i in range(len(machines)):\n",
    "        machines[i].pop(0)\n",
    "#     print('completion_times',completion_times)\n",
    "    # loop through each job in the schedule\n",
    "    for i in range(len(schedule)):\n",
    "        # get the machine and processing time for the job\n",
    "        machine = schedule[i][0]\n",
    "#         processing_time = processing_times[i][machine]\n",
    "        processing_time = processing_times[machine][i]\n",
    "        # calculate the start time of the job (maximum of completion time and setup time)\n",
    "#         start_time = max(completion_times[i][machine], setup_times[i][machine])\n",
    "        if machine not in machine_done:\n",
    "            start_time = completion_times[i][machine] + 0\n",
    "            machine_done.append(machine)\n",
    "#             start_time = max(completion_times[i][machine], setup_times[machine][i][i])\n",
    "        else:\n",
    "            l = machines[machine].index(schedule[i][1])\n",
    "            h = machines[machine][l-1]\n",
    "            start_time = completion_times[i][machine] + setup_times[machine][h][i]\n",
    "#             start_time = max(completion_times[i][machine],setup_times[machine][i-1][i])\n",
    "        # update the completion time of the job on the machine\n",
    "        completion_times[i][machine] = start_time + processing_time\n",
    "        # update the completion times of the remaining jobs on the machine\n",
    "        for j in range(i+1, len(schedule)):\n",
    "            if schedule[j][0] == machine:\n",
    "                completion_times[j][machine] = completion_times[i][machine]\n",
    "    # calculate the makespan (maximum completion time of all jobs on all machines)\n",
    "#     print('completion_times',completion_times)\n",
    "    makespan = max(max(completion_times[i]) for i in range(len(completion_times)))\n",
    "    # return the fitness (1/makespan, since we want to minimize makespan)\n",
    "    return 1/makespan\n",
    "\n",
    "# function to generate a random schedule\n",
    "def generate_schedule(num_jobs, num_machines):\n",
    "    schedule = []\n",
    "    for i in range(num_jobs):\n",
    "        while True:\n",
    "            machine = random.randint(0, num_machines-1)\n",
    "#             cond = False\n",
    "            for k in schedule:\n",
    "                if k[0] == machine and k[1] == i:\n",
    "                    continue\n",
    "            break\n",
    "        schedule.append((machine, i))\n",
    "#     print('Schedule',schedule)\n",
    "    return schedule\n",
    "\n",
    "# function to mutate a schedule by swapping two jobs\n",
    "def mutate(schedule):\n",
    "    while True:\n",
    "        temp_schedule = schedule\n",
    "        i = random.randint(0, len(schedule)-1)\n",
    "        j = random.randint(0, len(schedule)-1)\n",
    "        temp_schedule[i], temp_schedule[j] = schedule[j], schedule[i]\n",
    "        machines = [[0] for _ in range(problem.nMachines)]\n",
    "        for k in temp_schedule:\n",
    "            machines[k[0]] += [k[1]]\n",
    "        for n in range(len(machines)):\n",
    "            machines[n].pop(0)\n",
    "        cond = False\n",
    "        for l in range(problem.nMachines):\n",
    "            temp = set(machines[l])\n",
    "            if len(temp) != len(machines[l]):\n",
    "                cond = True\n",
    "                break\n",
    "        if cond:\n",
    "            continue\n",
    "        else:\n",
    "            break\n",
    "    schedule[i], schedule[j] = schedule[j], schedule[i]\n",
    "\n",
    "# function to select two schedules for crossover\n",
    "def select(population):\n",
    "    return random.choices(population, weights=[calculate_fitness(schedule, processing_times, setup_times) for schedule in population], k=2)\n",
    "\n",
    "# function to perform crossover between two schedules\n",
    "def crossover(schedule1, schedule2):\n",
    "    child1 = []\n",
    "    child2 = []\n",
    "    for i in range(len(schedule1)):\n",
    "        if random.random() < 0.5:\n",
    "            child1.append(schedule1[i])\n",
    "            child2.append(schedule2[i])\n",
    "        else:\n",
    "            child1.append(schedule2[i])\n",
    "            child2.append(schedule1[i])\n",
    "    return child1, child2\n",
    "\n",
    "# function to run the genetic algorithm\n",
    "def run_genetic_algorithm(num_jobs, num_machines, processing_times, setup_times, population_size=500, num_generations=5000):\n",
    "    # initialize the population\n",
    "    population = [generate_schedule(num_jobs, num_machines) for _ in range(population_size)]\n",
    "    # loop through each generation\n",
    "    for generation in range(num_generations):\n",
    "        # select the fittest individuals for reproduction\n",
    "        parents = [select(population) for _ in range(population_size//2)]\n",
    "        # perform crossover and mutation to create the next generation\n",
    "        children = []\n",
    "        for parent1, parent2 in parents:\n",
    "            child1, child2 = crossover(parent1, parent2)\n",
    "            mutate(child1)\n",
    "            mutate(child2)\n",
    "            children.append(child1)\n",
    "            children.append(child2)\n",
    "        # evaluate the fitness of the new generation\n",
    "        population = population + children\n",
    "        population = sorted(population, key=lambda schedule: calculate_fitness(schedule, processing_times, setup_times), reverse=True)\n",
    "        population = population[:population_size]\n",
    "    # return the fittest individual (i.e., the schedule with the highest fitness)\n",
    "    return population[0]\n",
    "\n",
    "# example usage\n",
    "# num_jobs = 5\n",
    "# num_machines = 3\n",
    "# processing_times = [[3, 2, 4], [1, 3, 2], [4, 1, 3], [2, 4, 1], [3, 1, 2]]\n",
    "# setup_times = [[0, 2, 1], [2, 0, 1], [1, 2, 0], [2, 1, 0], [1, 0, 2]]\n",
    "num_jobs = problem.nJobs\n",
    "num_machines = problem.nMachines\n",
    "processing_times = problem.processTimes\n",
    "setup_times = problem.setupTimes\n",
    "schedule = run_genetic_algorithm(num_jobs, num_machines, processing_times, setup_times)\n",
    "print(schedule)\n",
    "print(\"Fitness:\", 1/calculate_fitness(schedule, processing_times, setup_times))\n",
    "\n"
   ]
  },
  {
   "cell_type": "code",
   "execution_count": 21,
   "id": "66f602f6",
   "metadata": {},
   "outputs": [
    {
     "name": "stdout",
     "output_type": "stream",
     "text": [
      "Array representation of Resource file\n",
      "Number of Jobs =>  6\n",
      "Number of Machines =>  2\n",
      "Process Time of Jobs =>  [[1, 87, 28, 32, 38, 9], [4, 21, 68, 17, 43, 48]]\n",
      "Setup Time of Jobs=> [[[0, 1, 8, 1, 3, 9], [4, 0, 7, 3, 7, 8], [7, 3, 0, 2, 3, 5], [3, 8, 3, 0, 5, 2], [8, 3, 7, 9, 0, 5], [8, 8, 1, 2, 2, 0]], [[0, 5, 1, 6, 1, 7], [6, 0, 7, 7, 6, 2], [7, 6, 0, 9, 6, 9], [3, 7, 3, 0, 1, 7], [5, 8, 5, 6, 0, 9], [7, 4, 1, 7, 9, 0]]]\n",
      "\n"
     ]
    }
   ],
   "source": [
    "print(problem)"
   ]
  },
  {
   "cell_type": "code",
   "execution_count": 27,
   "id": "36fe4382",
   "metadata": {},
   "outputs": [],
   "source": [
    "a = generate_schedule(6,2)"
   ]
  },
  {
   "cell_type": "code",
   "execution_count": 28,
   "id": "54460b41",
   "metadata": {},
   "outputs": [
    {
     "ename": "NameError",
     "evalue": "name 'i' is not defined",
     "output_type": "error",
     "traceback": [
      "\u001b[1;31m---------------------------------------------------------------------------\u001b[0m",
      "\u001b[1;31mNameError\u001b[0m                                 Traceback (most recent call last)",
      "\u001b[1;32m~\\AppData\\Local\\Temp\\ipykernel_27368\\3616029859.py\u001b[0m in \u001b[0;36m<module>\u001b[1;34m\u001b[0m\n\u001b[1;32m----> 1\u001b[1;33m \u001b[0mi\u001b[0m\u001b[1;33m\u001b[0m\u001b[1;33m\u001b[0m\u001b[0m\n\u001b[0m",
      "\u001b[1;31mNameError\u001b[0m: name 'i' is not defined"
     ]
    }
   ],
   "source": [
    "i"
   ]
  },
  {
   "cell_type": "code",
   "execution_count": 30,
   "id": "c03eaf25",
   "metadata": {},
   "outputs": [
    {
     "name": "stdout",
     "output_type": "stream",
     "text": [
      "(0, 0)\n",
      "(1, 1)\n",
      "(0, 2)\n",
      "(1, 3)\n",
      "(0, 4)\n",
      "(0, 5)\n"
     ]
    }
   ],
   "source": [
    "for k in a:\n",
    "    print (k)"
   ]
  },
  {
   "cell_type": "code",
   "execution_count": 38,
   "id": "39b36e85",
   "metadata": {},
   "outputs": [],
   "source": [
    "machine = [[0] for _ in range(2)]\n",
    "for k in a:\n",
    "    machine[k[0]] += [k[1]]\n",
    "for i in range(len(machine)):\n",
    "    machine[i].pop(0)"
   ]
  },
  {
   "cell_type": "code",
   "execution_count": 47,
   "id": "ff00d6bd",
   "metadata": {},
   "outputs": [
    {
     "data": {
      "text/plain": [
       "[[0, 2, 4, 5], [1, 3]]"
      ]
     },
     "execution_count": 47,
     "metadata": {},
     "output_type": "execute_result"
    }
   ],
   "source": [
    "\n",
    "machine"
   ]
  },
  {
   "cell_type": "code",
   "execution_count": 46,
   "id": "7aa1ef9f",
   "metadata": {},
   "outputs": [],
   "source": [
    "k = set(machine[0])"
   ]
  },
  {
   "cell_type": "code",
   "execution_count": 48,
   "id": "97e67ff0",
   "metadata": {},
   "outputs": [
    {
     "data": {
      "text/plain": [
       "{0, 2, 4, 5}"
      ]
     },
     "execution_count": 48,
     "metadata": {},
     "output_type": "execute_result"
    }
   ],
   "source": [
    "k"
   ]
  },
  {
   "cell_type": "code",
   "execution_count": 34,
   "id": "3cce2708",
   "metadata": {},
   "outputs": [
    {
     "data": {
      "text/plain": [
       "0"
      ]
     },
     "execution_count": 34,
     "metadata": {},
     "output_type": "execute_result"
    }
   ],
   "source": [
    "machine[0].pop(0)"
   ]
  },
  {
   "cell_type": "code",
   "execution_count": 36,
   "id": "d8de23b6",
   "metadata": {},
   "outputs": [
    {
     "data": {
      "text/plain": [
       "0"
      ]
     },
     "execution_count": 36,
     "metadata": {},
     "output_type": "execute_result"
    }
   ],
   "source": [
    "machine[1].pop(0)"
   ]
  },
  {
   "cell_type": "code",
   "execution_count": null,
   "id": "6a237b8a",
   "metadata": {},
   "outputs": [],
   "source": []
  }
 ],
 "metadata": {
  "kernelspec": {
   "display_name": "Python 3 (ipykernel)",
   "language": "python",
   "name": "python3"
  },
  "language_info": {
   "codemirror_mode": {
    "name": "ipython",
    "version": 3
   },
   "file_extension": ".py",
   "mimetype": "text/x-python",
   "name": "python",
   "nbconvert_exporter": "python",
   "pygments_lexer": "ipython3",
   "version": "3.9.13"
  }
 },
 "nbformat": 4,
 "nbformat_minor": 5
}
